{
 "cells": [
  {
   "cell_type": "markdown",
   "metadata": {},
   "source": [
    "# ATML Sample Project report"
   ]
  },
  {
   "cell_type": "markdown",
   "metadata": {},
   "source": [
    "## Image classification on FashionMNIST dataset\n",
    "Goal: Create a model to classify images from 10 classes of FashionMNIST dataset (https://github.com/zalandoresearch/fashion-mnist)"
   ]
  },
  {
   "cell_type": "markdown",
   "metadata": {},
   "source": [
    "## Approach description"
   ]
  },
  {
   "cell_type": "markdown",
   "metadata": {},
   "source": [
    "We use a network architecture inspired by Wide-ResNet (https://arxiv.org/abs/1605.07146). We train the network to minimize cross-entropy loss for classification, with decaying learning rate schedule, using Adam optimizer.\n",
    "We use dropout, weight decay and heavy data augmentation for regularization.\n",
    "\n",
    "Script for training is in `train.py`, data processing pipeline in `dataset.py`\n",
    "\n",
    "We used accuracy as a metric to evaluate our solution."
   ]
  },
  {
   "cell_type": "markdown",
   "metadata": {},
   "source": [
    "# Results\n",
    "| Setting | Train accuracy \\[\\%\\]| Test accuracy \\[\\%\\]|\n",
    "| ------- | -------------------- |---------------------|\n",
    "| Batch normalization | 99.40                | 94.32               |\n",
    "| w/o Batch norm      | 99.87                | 91.54               |"
   ]
  },
  {
   "cell_type": "markdown",
   "metadata": {},
   "source": [
    "### Learning curves"
   ]
  },
  {
   "cell_type": "markdown",
   "metadata": {},
   "source": [
    "<img src=\"tensorboard.png\" style=\"width: 600px;\"/>"
   ]
  },
  {
   "cell_type": "markdown",
   "metadata": {},
   "source": [
    "Blue - train loss, Red - validation loss. Overfitting can be observed."
   ]
  },
  {
   "cell_type": "markdown",
   "metadata": {},
   "source": [
    "### Example of use"
   ]
  },
  {
   "cell_type": "code",
   "execution_count": 1,
   "metadata": {},
   "outputs": [],
   "source": [
    "# load the libraries\n",
    "import torch\n",
    "from PIL import Image\n",
    "# load the model\n",
    "from net import Net\n",
    "model = Net()\n",
    "model.load_state_dict(torch.load('mnist_cnn.pt'))\n",
    "model.eval();"
   ]
  },
  {
   "cell_type": "code",
   "execution_count": 2,
   "metadata": {},
   "outputs": [],
   "source": [
    "# Load sample image\n",
    "import numpy as np\n",
    "image = Image.open('shoe.jpg').convert('L')\n",
    "image = np.array(image)"
   ]
  },
  {
   "cell_type": "code",
   "execution_count": 3,
   "metadata": {},
   "outputs": [
    {
     "data": {
      "text/plain": [
       "<matplotlib.image.AxesImage at 0x7f25f7cb8320>"
      ]
     },
     "execution_count": 3,
     "metadata": {},
     "output_type": "execute_result"
    },
    {
     "data": {
      "image/png": "[encoded data removed]",
      "text/plain": [
       "<Figure size 432x288 with 1 Axes>"
      ]
     },
     "metadata": {
      "needs_background": "light"
     },
     "output_type": "display_data"
    }
   ],
   "source": [
    "# Show image\n",
    "%matplotlib inline\n",
    "import matplotlib.pyplot as plt\n",
    "plt.imshow(image, cmap='gray')"
   ]
  },
  {
   "cell_type": "code",
   "execution_count": 4,
   "metadata": {},
   "outputs": [],
   "source": [
    "# Run prediction\n",
    "label2name = {0:'T-shirt/top', 1:'Trouser', 2:'Pullover', 3:'Dress', 4:'Coat', 5:'Sandal', 6:'Shirt', 7:'Sneaker', 8:'Bag', 9:'Ankle boot'}\n",
    "with torch.no_grad():\n",
    "    out = model((torch.Tensor(image).view(1,1,28,28)/255-0.5)/0.5)\n",
    "    out = torch.softmax(out, -1)"
   ]
  },
  {
   "cell_type": "code",
   "execution_count": 5,
   "metadata": {},
   "outputs": [
    {
     "name": "stdout",
     "output_type": "stream",
     "text": [
      "Prediction: Ankle boot, score: 0.9547\n"
     ]
    }
   ],
   "source": [
    "ind = out[0].cpu().numpy().argmax()\n",
    "print('Prediction: {}, score: {:.4f}'.format(label2name[ind], out[0][ind]))"
   ]
  },
  {
   "cell_type": "markdown",
   "metadata": {},
   "source": [
    "# Sample test set errors"
   ]
  },
  {
   "cell_type": "code",
   "execution_count": 6,
   "metadata": {},
   "outputs": [],
   "source": [
    "from torchvision import datasets, transforms\n",
    "test_loader = torch.utils.data.DataLoader(\n",
    "    datasets.FashionMNIST('../data', train=False, transform=transforms.Compose([\n",
    "                       transforms.ToTensor(),\n",
    "                       transforms.Normalize((0.5,), (0.5,))\n",
    "                   ])),\n",
    "    batch_size=32, shuffle=False)"
   ]
  },
  {
   "cell_type": "code",
   "execution_count": 7,
   "metadata": {},
   "outputs": [],
   "source": [
    "predictions = []\n",
    "prediction_scores = []\n",
    "labels = []\n",
    "for data, target in test_loader:\n",
    "    labels.extend(target)\n",
    "    with torch.no_grad():\n",
    "        output = model(data)\n",
    "        output = torch.softmax(output, -1)\n",
    "    output = output.cpu().numpy()\n",
    "    preds = output.argmax(-1)\n",
    "    predictions.extend(preds)\n",
    "    prediction_scores.extend(output[np.arange(output.shape[0]), preds])"
   ]
  },
  {
   "cell_type": "code",
   "execution_count": 8,
   "metadata": {},
   "outputs": [],
   "source": [
    "error_indices = np.where(np.array(labels) != np.array(predictions))[0]"
   ]
  },
  {
   "cell_type": "code",
   "execution_count": 9,
   "metadata": {},
   "outputs": [],
   "source": [
    "def show_sample_mistake(error_indices, labels, predictions, prediction_scores):\n",
    "    ind = np.random.choice(error_indices)\n",
    "    plt.imshow(test_loader.dataset.test_data[ind], cmap='gray')\n",
    "    plt.title('True label: {}\\n Prediction: {}\\n Score: {:.6f}'.format(label2name[labels[ind].item()],\n",
    "                                                                    label2name[predictions[ind].item()],\n",
    "                                                                    prediction_scores[ind]))"
   ]
  },
  {
   "cell_type": "code",
   "execution_count": 10,
   "metadata": {},
   "outputs": [
    {
     "data": {
      "image/png": "[encoded data removed]",
      "text/plain": [
       "<Figure size 432x288 with 1 Axes>"
      ]
     },
     "metadata": {
      "needs_background": "light"
     },
     "output_type": "display_data"
    }
   ],
   "source": [
    "show_sample_mistake(error_indices, labels, predictions, prediction_scores)"
   ]
  },
  {
   "cell_type": "code",
   "execution_count": 11,
   "metadata": {},
   "outputs": [
    {
     "data": {
      "image/png": "[encoded data removed]",
      "text/plain": [
       "<Figure size 432x288 with 1 Axes>"
      ]
     },
     "metadata": {
      "needs_background": "light"
     },
     "output_type": "display_data"
    }
   ],
   "source": [
    "show_sample_mistake(error_indices, labels, predictions, prediction_scores)"
   ]
  },
  {
   "cell_type": "code",
   "execution_count": 12,
   "metadata": {},
   "outputs": [
    {
     "data": {
      "image/png": "[encoded data removed]",
      "text/plain": [
       "<Figure size 432x288 with 1 Axes>"
      ]
     },
     "metadata": {
      "needs_background": "light"
     },
     "output_type": "display_data"
    }
   ],
   "source": [
    "show_sample_mistake(error_indices, labels, predictions, prediction_scores)"
   ]
  }
 ],
 "metadata": {
  "kernelspec": {
   "display_name": "Python 3",
   "language": "python",
   "name": "python3"
  },
  "language_info": {
   "codemirror_mode": {
    "name": "ipython",
    "version": 3
   },
   "file_extension": ".py",
   "mimetype": "text/x-python",
   "name": "python",
   "nbconvert_exporter": "python",
   "pygments_lexer": "ipython3",
   "version": "3.7.2"
  }
 },
 "nbformat": 4,
 "nbformat_minor": 2
}
